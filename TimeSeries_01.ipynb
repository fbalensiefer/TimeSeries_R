{
 "cells": [
  {
   "cell_type": "markdown",
   "metadata": {},
   "source": [
    "# Time Series 01"
   ]
  },
  {
   "cell_type": "markdown",
   "metadata": {},
   "source": []
  },
  {
   "cell_type": "code",
   "execution_count": 7,
   "metadata": {},
   "outputs": [
    {
     "ename": "ERROR",
     "evalue": "Error in library(forecast): there is no package called 'forecast'\n",
     "output_type": "error",
     "traceback": [
      "Error in library(forecast): there is no package called 'forecast'\nTraceback:\n",
      "1. library(forecast)",
      "2. stop(txt, domain = NA)"
     ]
    }
   ],
   "source": [
    "rm(list=ls()) \n",
    "library(zoo)\n",
    "library(dynlm)\n",
    "library(forecast)"
   ]
  },
  {
   "cell_type": "code",
   "execution_count": 8,
   "metadata": {},
   "outputs": [],
   "source": [
    "#####################################################################\n",
    "###   Exmaple: CPI from US-FRED quarterly and seasonal adjusted\n",
    "###            \"CPIAUCSL\"\n",
    "\n",
    "cpi=read.csv(\"cpi.csv\")\n",
    "y = cpi[,2]\n",
    "y = ts(y,start=c(1947,1),freq=4)     # defining as TS"
   ]
  },
  {
   "cell_type": "code",
   "execution_count": 9,
   "metadata": {},
   "outputs": [
    {
     "ename": "ERROR",
     "evalue": "Error in Acf(y, lag.max = 40): konnte Funktion \"Acf\" nicht finden\n",
     "output_type": "error",
     "traceback": [
      "Error in Acf(y, lag.max = 40): konnte Funktion \"Acf\" nicht finden\nTraceback:\n"
     ]
    }
   ],
   "source": [
    "par(mfrow=c(2,2))\n",
    "ts.plot(y)\n",
    "Acf(y,lag.max=40)\n",
    "z = 400*diff(log(y))                 # US-cpi inflation (400= 100%*4Q) yearly\n",
    "ts.plot(z,col=2)             \n",
    "abline(h=0,lty=3)\n",
    "abline(v=c(1984,1),lty=2)            # Note: there is a structural break in 1984Q1 \n",
    "Acf(z,lag.max=40,plot=F)    "
   ]
  },
  {
   "cell_type": "code",
   "execution_count": 10,
   "metadata": {},
   "outputs": [
    {
     "ename": "ERROR",
     "evalue": "Error in Acf(z, lag.max = 40, plot = F): konnte Funktion \"Acf\" nicht finden\n",
     "output_type": "error",
     "traceback": [
      "Error in Acf(z, lag.max = 40, plot = F): konnte Funktion \"Acf\" nicht finden\nTraceback:\n"
     ]
    },
    {
     "data": {
      "image/png": "[encoded data removed]",
      "text/plain": [
       "plot without title"
      ]
     },
     "metadata": {},
     "output_type": "display_data"
    }
   ],
   "source": [
    "z = 400*diff(log(y))                 # US-cpi inflation (400= 100%*4Q) yearly\n",
    "ts.plot(z,col=2)             \n",
    "abline(h=0,lty=3)\n",
    "abline(v=c(1984,1),lty=2)            # Note: there is a structural break in 1984Q1 \n",
    "Acf(z,lag.max=40,plot=F)             # access the ACF directly\n",
    "\n",
    "### AR(1) - Auto-regressive Regression model order 1\n",
    "ar1.mod = dynlm(z ~ L(z,1))\n",
    "summary(ar1.mod)\n",
    "# red line => theoretical ACF of AR(1)\n",
    "lags = seq(1:41)-1\n",
    "round(ar1.mod$coef[2]^lags,3)\n",
    "par(mfrow=c(1,1))\n",
    "plot(Acf(z,lag.max=40,plot=F))\n",
    "lines(ar1.mod$coef[2]^lags,col=2)\n",
    "# AR(2)\n",
    "ar2.mod = dynlm(z ~ L(z,c(1,2)))\n",
    "summary(ar2.mod)\n",
    "\n",
    "### Split the sample since we observe a structural break in the data \n",
    "#   Idea: before 1984Q1 high Variance, after 1984Q1 less Variance\n",
    "#   Note: we still estimate with OLS, hence assume homoskecasticity"
   ]
  },
  {
   "cell_type": "code",
   "execution_count": 11,
   "metadata": {},
   "outputs": [
    {
     "ename": "ERROR",
     "evalue": "Error in Acf(z, lag.max = 40, plot = F): konnte Funktion \"Acf\" nicht finden\n",
     "output_type": "error",
     "traceback": [
      "Error in Acf(z, lag.max = 40, plot = F): konnte Funktion \"Acf\" nicht finden\nTraceback:\n",
      "1. plot(Acf(z, lag.max = 40, plot = F))"
     ]
    }
   ],
   "source": [
    "par(mfrow=c(2,2))\n",
    "ts.plot(z)                        # ignore 2008Q4 for a moment\n",
    "z1 = window(z,c(1947,2),c(1983,4))\n",
    "z2 = window(z,c(1984,1),c(2019,1))\n",
    "plot(Acf(z,lag.max=40,plot=F))\n",
    "plot(Acf(z1,lag.max=40,plot=F))\n",
    "plot(Acf(z2,lag.max=40,plot=F))\n",
    "# compare means and sd\n",
    "c(mean(z1),mean(z2))\n",
    "c(sd(z1),sd(z2))\n",
    "# compare densities\n",
    "par(mfrow=c(1,1))\n",
    "plot(density(z1),xlim=c(-10,20),ylim=c(0,0.3))\n",
    "abline(v=0,lty=2)\n",
    "lines(density(z2),xlim=c(-10,20),col=4)"
   ]
  },
  {
   "cell_type": "code",
   "execution_count": null,
   "metadata": {},
   "outputs": [],
   "source": []
  }
 ],
 "metadata": {
  "kernelspec": {
   "display_name": "R",
   "language": "R",
   "name": "ir"
  },
  "language_info": {
   "codemirror_mode": "r",
   "file_extension": ".r",
   "mimetype": "text/x-r-source",
   "name": "R",
   "pygments_lexer": "r",
   "version": "3.4.2"
  }
 },
 "nbformat": 4,
 "nbformat_minor": 2
}
